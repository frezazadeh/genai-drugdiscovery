{
  "cells": [
    {
      "cell_type": "markdown",
      "id": "4a2fdb7a",
      "metadata": {
        "id": "4a2fdb7a"
      },
      "source": [
        "\n",
        "# 🎬 GenAI × Drug Discovery — Intro\n",
        "**Welcome!** This short intro for the full course—just the vibe, goals, and a couple of tiny, fun demos.\n",
        "\n",
        "> **What to expect from the full series**  \n",
        "> - Short, bingeable episodes with hands‑on notebooks.  \n",
        "> - Real‑world datasets and modern GenAI stacks.  \n",
        "> - Practical recipes, safety-aware workflows, and a capstone.  \n",
        "\n",
        "**Subscribe & turn on notifications** so you don’t miss Episode 1.\n"
      ]
    },
    {
      "cell_type": "markdown",
      "id": "8f93d7d1",
      "metadata": {
        "id": "8f93d7d1"
      },
      "source": [
        "\n",
        "## Before you start\n",
        "- This notebook runs best on **Google Colab** with a **GPU** (optional for this intro).\n",
        "- Feel free to skim and hit **Run all** for a quick tour.\n",
        "- We won't reveal the course breakdown here—this is strictly a vibe check. 😎\n",
        "\n",
        "> 💡 Tip: If you're new to Python notebooks, just press **Runtime → Run all** in Colab.\n"
      ]
    },
    {
      "cell_type": "markdown",
      "id": "1bdb4739",
      "metadata": {
        "id": "1bdb4739"
      },
      "source": [
        "\n",
        "## Course Goals (at a glance)\n",
        "- **Practical intuition + hands‑on skill** for applying modern GenAI across the **end‑to‑end drug discovery pipeline**—from ideas to triage and decision support.  \n",
        "  *You’ll see how data flows, where GenAI helps, and how to make results reproducible.*\n",
        "- **Full stack coverage:** **data, models, evaluation, optimization**, and how these connect with **wet‑lab** and **physics‑based simulation** (at a conceptual level in this intro).  \n",
        "  *We won’t show the actual methods here—that starts in Module 0.*\n",
        "- **Responsible innovation:** Strong focus on **reproducibility**, **safety**, and **limits of models**.  \n",
        "  *You’ll learn what to trust, what to question, and how to communicate uncertainty.*\n",
        "\n",
        "## Who This Is For\n",
        "- **Track A — ML/AI engineers** moving into **chemistry/biology**: you’ll get the domain context and patterns to adapt your ML instincts safely.\n",
        "- **Track B — Life‑science students/researchers** moving into **ML/GenAI**: you’ll get the coding patterns and mental models to build robust workflows.\n",
        "- **Track C — Product/Innovation leads**: you’ll get conceptual fluency to evaluate roadmaps, resourcing, and risk.\n",
        "\n",
        "\n",
        "## Prerequisites (minimal)\n",
        "- **Python** (functions, classes, virtual env/poetry, notebooks), **NumPy**, **pandas**, **matplotlib**.  \n",
        "  *We keep the code readable and annotated—copy‑paste friendly.*\n",
        "- **Basic linear algebra & probability** (vectors, matrices, expectations).  \n",
        "  *Enough to understand embeddings and metrics.*\n",
        "- **Optional primers in Module 0**: we include a calm on‑ramp if you’re rusty.\n",
        "\n",
        "## Core Stack (used across episodes)\n",
        "- **Python/ML:** PyTorch, **PyTorch Geometric**, Lightning, **Hugging Face Transformers/PEFT**, **RDKit**, **DeepChem**.  \n",
        "  *Covers deep learning, graphs, transfer/fine‑tuning, and cheminformatics utilities.*\n",
        "- **Chem/Bio tooling:** **Open Babel**, **OpenFF**, **OpenMM**, MDAnalysis, Biopython, Rosetta (select), **AutoDock Vina/GNINA**, **DiffDock**.  \n",
        "  *For representation conversions, force fields, light MD, basic docking, and structure‑aware tasks.*\n",
        "- **Infra:** **Weights & Biases** (or MLflow), **Hydra**, **Docker**, **CUDA**; optional cloud (**GCP/AWS**) with spot GPU.  \n",
        "  *For experiment tracking, config management, reproducibility, and cost control.*\n",
        "- **Data Sources:** **ChEMBL**, **PubChem**, **BindingDB**, **PDB**, **UniProt**, **ZINC**, **Enamine REAL**, **DrugBank**, **SIDER**, **ClinTox**, **Tox21**, **ADMETlab** APIs.  \n",
        "  *We’ll respect terms of service and demonstrate safe, citation‑friendly use.*\n"
      ]
    },
    {
      "cell_type": "code",
      "execution_count": null,
      "id": "ce53b1aa",
      "metadata": {
        "colab": {
          "base_uri": "https://localhost:8080/"
        },
        "id": "ce53b1aa",
        "outputId": "31e4f4ff-8711-4121-c04e-773ac249de28"
      },
      "outputs": [
        {
          "output_type": "stream",
          "name": "stdout",
          "text": [
            "✅ Setup cell ready. Uncomment lines to install when in Colab.\n"
          ]
        }
      ],
      "source": [
        "#@title 🔧 Quick Setup (Colab)\n",
        "# If running in Colab, uncomment the installs you need.\n",
        "# Note: We'll keep this light—full installs come in Module 0.\n",
        "\n",
        "!pip -q install selfies\n",
        "!pip install -q rdkit\n",
        "# Optional (preview only; full stack will be set up later):\n",
        "!pip -q install torch torchvision torchaudio --index-url https://download.pytorch.org/whl/cu121\n",
        "!pip -q install matplotlib pandas numpy\n",
        "!pip -q install ipywidgets\n",
        "\n",
        "print(\"✅ Setup cell ready. Uncomment lines to install when in Colab.\")\n"
      ]
    },
    {
      "cell_type": "code",
      "execution_count": null,
      "id": "31d75b41",
      "metadata": {
        "colab": {
          "base_uri": "https://localhost:8080/"
        },
        "id": "31d75b41",
        "outputId": "4f07635f-1bd8-4555-e4e8-e549cc2db251"
      },
      "outputs": [
        {
          "output_type": "stream",
          "name": "stdout",
          "text": [
            "\n",
            "====================\n",
            "Environment Snapshot\n",
            "====================\n",
            "Python: 3.12.12 | OS: Linux 6.6.105+\n",
            "Working Dir: /content\n",
            "Time: Thu Oct 16 18:48:45 2025\n",
            "PyTorch: 2.8.0+cu126\n",
            "CUDA available: True\n",
            "GPU name: Tesla T4\n"
          ]
        }
      ],
      "source": [
        "\n",
        "#@title ⚙️ Quick CUDA/GPU Check\n",
        "import os, sys, platform, time\n",
        "\n",
        "def banner(msg):\n",
        "    print(\"\\n\" + \"=\"*len(msg))\n",
        "    print(msg)\n",
        "    print(\"=\"*len(msg))\n",
        "\n",
        "banner(\"Environment Snapshot\")\n",
        "print(\"Python:\", sys.version.split()[0], \"| OS:\", platform.system(), platform.release())\n",
        "print(\"Working Dir:\", os.getcwd())\n",
        "print(\"Time:\", time.ctime())\n",
        "\n",
        "try:\n",
        "    import torch\n",
        "    cuda = torch.cuda.is_available()\n",
        "    print(\"PyTorch:\", torch.__version__)\n",
        "    print(\"CUDA available:\", cuda)\n",
        "    if cuda:\n",
        "        print(\"GPU name:\", torch.cuda.get_device_name(0))\n",
        "    else:\n",
        "        print(\"Tip: In Colab → Runtime → Change runtime type → GPU\")\n",
        "except Exception as e:\n",
        "    print(\"PyTorch not available yet. That's fine—this is just a teaser.\")\n"
      ]
    },
    {
      "cell_type": "markdown",
      "id": "0362cf49",
      "metadata": {
        "id": "0362cf49"
      },
      "source": [
        "\n",
        "## Tiny visual teaser — molecule postcards\n",
        "We'll draw a small grid of familiar, over‑the‑counter molecules just to set the mood 🧪  \n",
        "(*Educational visualization only*)\n"
      ]
    },
    {
      "cell_type": "code",
      "execution_count": null,
      "id": "e4174eeb",
      "metadata": {
        "colab": {
          "base_uri": "https://localhost:8080/",
          "height": 237
        },
        "id": "e4174eeb",
        "outputId": "078a9ea5-ff67-4307-96a6-6f7374adb160"
      },
      "outputs": [
        {
          "output_type": "display_data",
          "data": {
            "image/png": "[encoded data removed]",
            "text/plain": [
              "<IPython.core.display.Image object>"
            ]
          },
          "metadata": {}
        }
      ],
      "source": [
        "from rdkit import Chem\n",
        "from rdkit.Chem import Draw, rdDepictor\n",
        "from rdkit.Chem.Draw import rdMolDraw2D\n",
        "\n",
        "smiles = {\n",
        "    \"Aspirin\": \"CC(=O)OC1=CC=CC=C1C(=O)O\",\n",
        "    \"Ibuprofen\": \"CC(C)CC1=CC=C(C=C1)C(C)C(=O)O\",\n",
        "    \"Caffeine\": \"Cn1c(=O)n(C)c2ncn(C)c(=O)c12\",  # fixed\n",
        "    \"Acetaminophen\": \"CC(=O)NC1=CC=C(O)C=C1O\",\n",
        "}\n",
        "\n",
        "mols, labs = [], []\n",
        "for name, smi in smiles.items():\n",
        "    try:\n",
        "        m = Chem.MolFromSmiles(smi)\n",
        "        if not m:\n",
        "            print(f\"Skipped {name}: invalid SMILES\")\n",
        "            continue\n",
        "        Chem.SanitizeMol(m)  # ensure clean sanitization\n",
        "        mols.append(m); labs.append(name)\n",
        "    except Exception as e:\n",
        "        print(f\"{name}: {e}\")\n",
        "\n",
        "img = Draw.MolsToGridImage(mols, molsPerRow=4, legends=labs, subImgSize=(220,220))\n",
        "display(img)\n"
      ]
    },
    {
      "cell_type": "markdown",
      "id": "73dd9a18",
      "metadata": {
        "id": "73dd9a18"
      },
      "source": [
        "\n",
        "## A playful nudge — text → molecules (toy)\n",
        "Generative AI loves tokens. Here’s a tiny **SELFIES** demo that randomly samples valid strings.  \n",
        "This is **not** an actual drug design step—just a fun peek at text-based molecule representations.\n"
      ]
    },
    {
      "cell_type": "code",
      "execution_count": null,
      "id": "699d105d",
      "metadata": {
        "colab": {
          "base_uri": "https://localhost:8080/"
        },
        "id": "699d105d",
        "outputId": "7fde293e-be9e-4fdd-8723-2cf5fd330e39"
      },
      "outputs": [
        {
          "output_type": "stream",
          "name": "stdout",
          "text": [
            "SELFIES: [I][#S][#P-1][N-1][#C-1][#P-1]\n",
            "Decoded SMILES: IS#[P-1][N-1][C-1]=[P-1]\n"
          ]
        }
      ],
      "source": [
        "\n",
        "#@title 🎲 Random SELFIES sampler (toy)\n",
        "# Educational randomness; not medicinal advice.\n",
        "import random\n",
        "try:\n",
        "    import selfies as sf\n",
        "    alphabet = list(sf.get_semantic_robust_alphabet())\n",
        "    # Sample a short sequence of SELFIES tokens\n",
        "    tokens = [random.choice(alphabet) for _ in range(6)]\n",
        "    selfies_str = \"\".join(tokens)\n",
        "    smiles = sf.decoder(selfies_str)\n",
        "    print(\"SELFIES:\", selfies_str)\n",
        "    print(\"Decoded SMILES:\", smiles)\n",
        "    try:\n",
        "        from rdkit import Chem\n",
        "        from rdkit.Chem import Draw\n",
        "        m = Chem.MolFromSmiles(smiles)\n",
        "        if m:\n",
        "            Draw.MolToImage(m, size=(250,250)).show()\n",
        "        else:\n",
        "            print(\"Decoder produced an unparsable SMILES this time—try again!\")\n",
        "    except Exception:\n",
        "        pass\n",
        "except Exception as e:\n",
        "    print(\"SELFIES not installed yet. Uncomment installs in the setup cell and re-run.\")\n",
        "    print(\"Error:\", e)\n"
      ]
    },
    {
      "cell_type": "code",
      "source": [
        "'''\n",
        "# 🎲 Less-silly SELFIES sampler\n",
        "import random\n",
        "import selfies as sf\n",
        "from rdkit import Chem\n",
        "from rdkit.Chem import Draw, Descriptors\n",
        "\n",
        "rng = random.Random(0)  # set a seed if you want reproducibility\n",
        "\n",
        "alphabet = list(sf.get_semantic_robust_alphabet())\n",
        "\n",
        "# Heavy-atom tokens (exclude H, Branch, Ring)\n",
        "heavy_atom_tokens = [t for t in alphabet\n",
        "                     if t.startswith('[') and t.endswith(']')\n",
        "                     and 'Branch' not in t and 'Ring' not in t\n",
        "                     and t not in ('[H]',)]\n",
        "# Non-atom structural tokens (branches, rings, etc.)\n",
        "structural_tokens = [t for t in alphabet\n",
        "                     if 'Branch' in t or 'Ring' in t]\n",
        "\n",
        "def sample_valid_selfies(max_tries=500, length=8):\n",
        "    for _ in range(max_tries):\n",
        "        # ensure we start with a heavy atom and sprinkle more later\n",
        "        tokens = [rng.choice(heavy_atom_tokens)]\n",
        "        # bias toward atoms but allow some structure tokens\n",
        "        for i in range(1, length):\n",
        "            pool = heavy_atom_tokens if rng.random() < 0.7 else structural_tokens\n",
        "            # fallback if structural pool is empty for some envs\n",
        "            if not pool:\n",
        "                pool = heavy_atom_tokens\n",
        "            tokens.append(rng.choice(pool))\n",
        "\n",
        "        s = \"\".join(tokens)\n",
        "        smiles = sf.decoder(s)\n",
        "        m = Chem.MolFromSmiles(smiles)\n",
        "        if m and Descriptors.HeavyAtomCount(m) >= 2 and m.GetNumBonds() >= 1:\n",
        "            return s, smiles, m\n",
        "    return None, None, None\n",
        "\n",
        "s, smiles, mol = sample_valid_selfies(length=8)\n",
        "\n",
        "if mol:\n",
        "    print(\"SELFIES:\", s)\n",
        "    print(\"Decoded SMILES:\", smiles)\n",
        "    display(Draw.MolToImage(mol, size=(300,300)))\n",
        "else:\n",
        "    print(\"Couldn’t find a decent molecule this round—try increasing max_tries or length.\")\n",
        "'''"
      ],
      "metadata": {
        "colab": {
          "base_uri": "https://localhost:8080/",
          "height": 353
        },
        "id": "-M3O1saBPF0K",
        "outputId": "1358cb13-6b56-4c16-e524-8cb9d93223b7"
      },
      "id": "-M3O1saBPF0K",
      "execution_count": null,
      "outputs": [
        {
          "output_type": "stream",
          "name": "stdout",
          "text": [
            "SELFIES: [I][#Branch3][=N+1][=C][Branch2][Cl][#P-1][F]\n",
            "Decoded SMILES: I[N+1]=CF\n"
          ]
        },
        {
          "output_type": "display_data",
          "data": {
            "text/plain": [
              "<PIL.PngImagePlugin.PngImageFile image mode=RGB size=300x300>"
            ],
            "image/png": "[encoded data removed]",
            "image/jpeg": "[encoded data removed]"
          },
          "metadata": {}
        }
      ]
    },
    {
      "cell_type": "markdown",
      "id": "d2a29e3d",
      "metadata": {
        "id": "d2a29e3d"
      },
      "source": [
        "\n",
        "## Who this course is for\n",
        "- **Builders** who want practical GenAI skills applied to molecules and proteins.  \n",
        "- **Scientists/engineers** who value rigor, reproducibility, and safety.  \n",
        "- **Leads & founders** who need the mental models to evaluate investments and roadmap decisions.\n",
        "\n",
        "### Tone & pacing\n",
        "- Short, focused episodes.\n",
        "- One idea → one demo.\n",
        "- Realistic constraints (data quality, compute, and time).\n",
        "\n",
        "### Safety & responsibility\n",
        "- Educational content only; no actionable wet‑lab protocols or harmful instructions.  \n",
        "- Emphasis on model limitations, uncertainty, and human expert oversight.\n"
      ]
    },
    {
      "cell_type": "markdown",
      "id": "fefdcc8c",
      "metadata": {
        "id": "fefdcc8c"
      },
      "source": [
        "\n",
        "## Micro‑quiz (for fun)\n",
        "1. Why might *validity* and *diversity* both matter in generative chemistry?  \n",
        "2. What are some reasons **uncertainty estimates** are crucial in decision‑making?  \n",
        "3. Name one reason **data splits** in chemistry need extra care.\n"
      ]
    },
    {
      "cell_type": "markdown",
      "id": "2f34bafc",
      "metadata": {
        "id": "2f34bafc"
      },
      "source": [
        "\n",
        "## You're early — and that's awesome\n",
        "If this teaser got you curious, you're exactly the audience we had in mind.\n",
        "\n",
        "**Next:** Episode 1 (Module 0) starts with smooth environment setup and a zero‑stress on‑ramp.  \n",
        "**Call to action:** Subscribe, like, and comment what you want to build with GenAI this year.\n",
        "\n",
        "> *This intro deliberately hides the syllabus details to keep surprises fresh for the premiere.*\n"
      ]
    }
  ],
  "metadata": {
    "colab": {
      "provenance": [],
      "gpuType": "T4"
    },
    "accelerator": "GPU",
    "language_info": {
      "name": "python"
    },
    "kernelspec": {
      "name": "python3",
      "display_name": "Python 3"
    }
  },
  "nbformat": 4,
  "nbformat_minor": 5
}